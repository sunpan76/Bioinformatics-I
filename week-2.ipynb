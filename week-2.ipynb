{
 "cells": [
  {
   "cell_type": "code",
   "execution_count": 8,
   "metadata": {
    "collapsed": true
   },
   "outputs": [],
   "source": [
    "import numpy as np\n",
    "import matplotlib.pyplot as plt\n",
    "%matplotlib inline"
   ]
  },
  {
   "cell_type": "code",
   "execution_count": 2,
   "metadata": {
    "collapsed": true
   },
   "outputs": [],
   "source": [
    "X=\"CTTGAAGTGGACCTCTAGTTCCTCTACAAAGAACAGGTTGACCTGTCGCGAAG\"\n",
    "\n",
    "Y=\"ATGCCTTACCTAGATGCAATGACGGACGTATTCCTTTTGCCTCAACGGCTCCT\""
   ]
  },
  {
   "cell_type": "code",
   "execution_count": 4,
   "metadata": {
    "collapsed": false
   },
   "outputs": [
    {
     "name": "stdout",
     "output_type": "stream",
     "text": [
      "same\n",
      "same\n",
      "same\n",
      "same\n",
      "same\n",
      "same\n",
      "same\n",
      "same\n",
      "same\n",
      "same\n"
     ]
    }
   ],
   "source": [
    "count = 0\n",
    "for k in range(len(X)):\n",
    "    if X[k]==Y[k]:\n",
    "        print (\"same\")\n",
    "    else:\n",
    "        count = count +1 "
   ]
  },
  {
   "cell_type": "code",
   "execution_count": 5,
   "metadata": {
    "collapsed": false
   },
   "outputs": [
    {
     "data": {
      "text/plain": [
       "43"
      ]
     },
     "execution_count": 5,
     "metadata": {},
     "output_type": "execute_result"
    }
   ],
   "source": [
    "count"
   ]
  },
  {
   "cell_type": "code",
   "execution_count": 6,
   "metadata": {
    "collapsed": true
   },
   "outputs": [],
   "source": [
    "z=\"CATTCCAGTACTTCATGATGGCGTGAAGA\""
   ]
  },
  {
   "cell_type": "code",
   "execution_count": 11,
   "metadata": {
    "collapsed": false
   },
   "outputs": [
    {
     "data": {
      "image/png": "[encoded data removed]",
      "text/plain": [
       "<matplotlib.figure.Figure at 0x249151d2518>"
      ]
     },
     "metadata": {},
     "output_type": "display_data"
    }
   ],
   "source": [
    "n=0\n",
    "plt.figure()\n",
    "plt.grid()\n",
    "for k in range(len(z)):\n",
    "    if z[k]==\"G\":\n",
    "        n=n+1\n",
    "    elif z[k]==\"C\":\n",
    "        n=n-1\n",
    "   \n",
    "    plt.scatter(k,n)\n",
    "    \n",
    "         \n",
    "        \n",
    "        \n",
    "    "
   ]
  },
  {
   "cell_type": "code",
   "execution_count": 50,
   "metadata": {
    "collapsed": true
   },
   "outputs": [],
   "source": [
    "p=\"CATGCCATTCGCATTGTCCCAGTGA\""
   ]
  },
  {
   "cell_type": "code",
   "execution_count": 51,
   "metadata": {
    "collapsed": false
   },
   "outputs": [
    {
     "data": {
      "text/plain": [
       "'CAT'"
      ]
     },
     "execution_count": 51,
     "metadata": {},
     "output_type": "execute_result"
    }
   ],
   "source": [
    "p[0:3]"
   ]
  },
  {
   "cell_type": "code",
   "execution_count": 52,
   "metadata": {
    "collapsed": false
   },
   "outputs": [
    {
     "name": "stdout",
     "output_type": "stream",
     "text": [
      "CAT CCC 0\n",
      "ATG CCC 0\n",
      "TGC CCC 0\n",
      "GCC CCC 1\n",
      "CCA CCC 2\n",
      "CAT CCC 2\n",
      "ATT CCC 2\n",
      "TTC CCC 2\n",
      "TCG CCC 2\n",
      "CGC CCC 3\n",
      "GCA CCC 3\n",
      "CAT CCC 3\n",
      "ATT CCC 3\n",
      "TTG CCC 3\n",
      "TGT CCC 3\n",
      "GTC CCC 3\n",
      "TCC CCC 4\n",
      "CCC CCC 5\n",
      "CCA CCC 6\n",
      "CAG CCC 6\n",
      "AGT CCC 6\n",
      "GTG CCC 6\n",
      "TGA CCC 6\n",
      "6\n"
     ]
    }
   ],
   "source": [
    "count = 0\n",
    "\n",
    "for i in range(len(p)):\n",
    "    sub = p[i:i + 3]\n",
    "    if len(sub) == 3:\n",
    "        if sum(ch1 == ch2 for ch1, ch2 in zip(sub, \"CCC\")) > 1:\n",
    "            count += 1\n",
    "        print(sub, \"CCC\", count)\n",
    "\n",
    "print(count)"
   ]
  },
  {
   "cell_type": "code",
   "execution_count": null,
   "metadata": {
    "collapsed": true
   },
   "outputs": [],
   "source": []
  },
  {
   "cell_type": "code",
   "execution_count": null,
   "metadata": {
    "collapsed": true
   },
   "outputs": [],
   "source": []
  },
  {
   "cell_type": "code",
   "execution_count": null,
   "metadata": {
    "collapsed": true
   },
   "outputs": [],
   "source": []
  },
  {
   "cell_type": "code",
   "execution_count": null,
   "metadata": {
    "collapsed": true
   },
   "outputs": [],
   "source": []
  },
  {
   "cell_type": "code",
   "execution_count": null,
   "metadata": {
    "collapsed": true
   },
   "outputs": [],
   "source": []
  },
  {
   "cell_type": "code",
   "execution_count": null,
   "metadata": {
    "collapsed": true
   },
   "outputs": [],
   "source": []
  },
  {
   "cell_type": "code",
   "execution_count": 3,
   "metadata": {
    "collapsed": false
   },
   "outputs": [
    {
     "name": "stdout",
     "output_type": "stream",
     "text": [
      "0\n",
      "1\n",
      "2\n",
      "3\n",
      "4\n",
      "5\n",
      "6\n",
      "7\n",
      "8\n",
      "9\n"
     ]
    }
   ],
   "source": [
    "for k in range (10):\n",
    "    print(k)"
   ]
  },
  {
   "cell_type": "code",
   "execution_count": null,
   "metadata": {
    "collapsed": true
   },
   "outputs": [],
   "source": []
  },
  {
   "cell_type": "code",
   "execution_count": null,
   "metadata": {
    "collapsed": true
   },
   "outputs": [],
   "source": []
  },
  {
   "cell_type": "code",
   "execution_count": null,
   "metadata": {
    "collapsed": true
   },
   "outputs": [],
   "source": []
  },
  {
   "cell_type": "code",
   "execution_count": null,
   "metadata": {
    "collapsed": true
   },
   "outputs": [],
   "source": []
  },
  {
   "cell_type": "code",
   "execution_count": 15,
   "metadata": {
    "collapsed": true
   },
   "outputs": [],
   "source": [
    "str1 = \"CTACAGCAATACGATCATATGCGGATCCGCAGTGGCCGGTAGACACACGT\"\n",
    "\n",
    "str2 =\"CTACCCCGCTGCTCAATGACCGGGACTAAAGAGGCGAAGATTATGGTGTG\""
   ]
  },
  {
   "cell_type": "code",
   "execution_count": 53,
   "metadata": {
    "collapsed": true
   },
   "outputs": [],
   "source": [
    "str1 =\"CAGAAAGGAAGGTCCCCATACACCGACGCACCAGTTTA\" \n",
    "\n",
    "str2 =\"CACGCCGTATGCATAAACGAGCCGCACGAACCAGAGAG\"\n"
   ]
  },
  {
   "cell_type": "code",
   "execution_count": 54,
   "metadata": {
    "collapsed": false
   },
   "outputs": [
    {
     "name": "stdout",
     "output_type": "stream",
     "text": [
      "same\n",
      "same\n",
      "same\n",
      "same\n",
      "same\n",
      "same\n",
      "same\n",
      "same\n",
      "same\n",
      "same\n",
      "same\n",
      "same\n",
      "same\n",
      "same\n",
      "same\n"
     ]
    }
   ],
   "source": [
    "count = 0\n",
    "for k in range(len(str1)):\n",
    "    if str1[k]==str2[k]:\n",
    "        print (\"same\")\n",
    "    else:\n",
    "        count = count +1        "
   ]
  },
  {
   "cell_type": "code",
   "execution_count": 16,
   "metadata": {
    "collapsed": false
   },
   "outputs": [
    {
     "data": {
      "text/plain": [
       "50"
      ]
     },
     "execution_count": 16,
     "metadata": {},
     "output_type": "execute_result"
    }
   ],
   "source": [
    "len(str1)"
   ]
  },
  {
   "cell_type": "code",
   "execution_count": 55,
   "metadata": {
    "collapsed": false
   },
   "outputs": [
    {
     "data": {
      "text/plain": [
       "23"
      ]
     },
     "execution_count": 55,
     "metadata": {},
     "output_type": "execute_result"
    }
   ],
   "source": [
    "count"
   ]
  },
  {
   "cell_type": "code",
   "execution_count": 17,
   "metadata": {
    "collapsed": false
   },
   "outputs": [
    {
     "name": "stdout",
     "output_type": "stream",
     "text": [
      "same\n",
      "same\n",
      "same\n",
      "same\n",
      "same\n",
      "same\n",
      "same\n",
      "same\n",
      "same\n",
      "same\n",
      "same\n",
      "same\n",
      "same\n",
      "same\n"
     ]
    }
   ],
   "source": [
    "count = 0\n",
    "for k in range(len(str1)):\n",
    "    if str1[k]==str2[k]:\n",
    "        print (\"same\")\n",
    "    else:\n",
    "        count = count +1        "
   ]
  },
  {
   "cell_type": "code",
   "execution_count": 18,
   "metadata": {
    "collapsed": false
   },
   "outputs": [
    {
     "data": {
      "text/plain": [
       "36"
      ]
     },
     "execution_count": 18,
     "metadata": {},
     "output_type": "execute_result"
    }
   ],
   "source": [
    "count"
   ]
  },
  {
   "cell_type": "code",
   "execution_count": 56,
   "metadata": {
    "collapsed": true
   },
   "outputs": [],
   "source": [
    "str3=\"CATTCCAGTACTTCGATGATGGCGTGAAGA\""
   ]
  },
  {
   "cell_type": "code",
   "execution_count": 57,
   "metadata": {
    "collapsed": false
   },
   "outputs": [
    {
     "data": {
      "image/png": "[encoded data removed]",
      "text/plain": [
       "<matplotlib.figure.Figure at 0x24914f8b7f0>"
      ]
     },
     "metadata": {},
     "output_type": "display_data"
    }
   ],
   "source": [
    "n=0\n",
    "plt.figure(1)\n",
    "plt.grid()\n",
    "\n",
    "for k in range(len(str3)):\n",
    "    if str3[k] == \"G\":\n",
    "        n = n+1\n",
    "    if str3[k]== \"C\":\n",
    "        n = n-1\n",
    "    plt.scatter(k,n)\n",
    "    \n",
    "    \n",
    "        "
   ]
  },
  {
   "cell_type": "markdown",
   "metadata": {},
   "source": [
    "minimum is at 13"
   ]
  },
  {
   "cell_type": "code",
   "execution_count": 33,
   "metadata": {
    "collapsed": true
   },
   "outputs": [],
   "source": [
    "chain =\"CATGCCATTCGCATTGTCCCAGTGA\""
   ]
  },
  {
   "cell_type": "code",
   "execution_count": 34,
   "metadata": {
    "collapsed": false
   },
   "outputs": [
    {
     "name": "stdout",
     "output_type": "stream",
     "text": [
      "found\n"
     ]
    }
   ],
   "source": [
    "count =0\n",
    "for k in range(len(chain)-3):\n",
    "    if chain[k] =='C':\n",
    "        if chain[k+1] == 'C': \n",
    "            if chain[k+2] == 'C': \n",
    "                    print('found')\n",
    "                    count = count+1"
   ]
  },
  {
   "cell_type": "code",
   "execution_count": 35,
   "metadata": {
    "collapsed": false
   },
   "outputs": [
    {
     "data": {
      "text/plain": [
       "1"
      ]
     },
     "execution_count": 35,
     "metadata": {},
     "output_type": "execute_result"
    }
   ],
   "source": [
    "count"
   ]
  },
  {
   "cell_type": "code",
   "execution_count": 48,
   "metadata": {
    "collapsed": false
   },
   "outputs": [
    {
     "name": "stdout",
     "output_type": "stream",
     "text": [
      "1 1 11\n",
      "2 2 34\n",
      "10 10 67\n"
     ]
    },
    {
     "data": {
      "text/plain": [
       "[None, None, None]"
      ]
     },
     "execution_count": 48,
     "metadata": {},
     "output_type": "execute_result"
    }
   ],
   "source": [
    "[print(x,y,z) for x, y,z in zip([1,2,10], [1,2,10],[11,34,67])]"
   ]
  },
  {
   "cell_type": "code",
   "execution_count": 40,
   "metadata": {
    "collapsed": true
   },
   "outputs": [],
   "source": [
    "import math as math"
   ]
  },
  {
   "cell_type": "code",
   "execution_count": 30,
   "metadata": {
    "collapsed": true
   },
   "outputs": [],
   "source": [
    "L =[[1,2,3],[4,5,6],[7,8,9]]"
   ]
  },
  {
   "cell_type": "code",
   "execution_count": 41,
   "metadata": {
    "collapsed": false
   },
   "outputs": [],
   "source": [
    "x = np.array(L)"
   ]
  },
  {
   "cell_type": "code",
   "execution_count": 43,
   "metadata": {
    "collapsed": false
   },
   "outputs": [
    {
     "data": {
      "text/plain": [
       "array([[  2.71828183e+00,   7.38905610e+00,   2.00855369e+01],\n",
       "       [  5.45981500e+01,   1.48413159e+02,   4.03428793e+02],\n",
       "       [  1.09663316e+03,   2.98095799e+03,   8.10308393e+03]])"
      ]
     },
     "execution_count": 43,
     "metadata": {},
     "output_type": "execute_result"
    }
   ],
   "source": [
    "np.exp(x)"
   ]
  },
  {
   "cell_type": "code",
   "execution_count": 44,
   "metadata": {
    "collapsed": false
   },
   "outputs": [
    {
     "data": {
      "text/plain": [
       "1.3498588075760032"
      ]
     },
     "execution_count": 44,
     "metadata": {},
     "output_type": "execute_result"
    }
   ],
   "source": [
    "math.exp(0.3)"
   ]
  },
  {
   "cell_type": "code",
   "execution_count": 46,
   "metadata": {
    "collapsed": false
   },
   "outputs": [
    {
     "data": {
      "text/plain": [
       "5.0"
      ]
     },
     "execution_count": 46,
     "metadata": {},
     "output_type": "execute_result"
    }
   ],
   "source": [
    "x.mean()"
   ]
  },
  {
   "cell_type": "code",
   "execution_count": 47,
   "metadata": {
    "collapsed": false
   },
   "outputs": [
    {
     "data": {
      "text/plain": [
       "2.5819888974716112"
      ]
     },
     "execution_count": 47,
     "metadata": {},
     "output_type": "execute_result"
    }
   ],
   "source": [
    "x.std()"
   ]
  },
  {
   "cell_type": "code",
   "execution_count": null,
   "metadata": {
    "collapsed": true
   },
   "outputs": [],
   "source": []
  },
  {
   "cell_type": "code",
   "execution_count": null,
   "metadata": {
    "collapsed": true
   },
   "outputs": [],
   "source": []
  },
  {
   "cell_type": "code",
   "execution_count": null,
   "metadata": {
    "collapsed": true
   },
   "outputs": [],
   "source": []
  },
  {
   "cell_type": "code",
   "execution_count": null,
   "metadata": {
    "collapsed": true
   },
   "outputs": [],
   "source": []
  },
  {
   "cell_type": "code",
   "execution_count": null,
   "metadata": {
    "collapsed": true
   },
   "outputs": [],
   "source": []
  },
  {
   "cell_type": "code",
   "execution_count": 58,
   "metadata": {
    "collapsed": false
   },
   "outputs": [
    {
     "name": "stdout",
     "output_type": "stream",
     "text": [
      "TA CCC 1\n",
      "AC CCC 2\n",
      "CG CCC 2\n",
      "GC CCC 2\n",
      "CA CCC 3\n",
      "AT CCC 4\n",
      "TT CCC 4\n",
      "TA CCC 5\n",
      "AC CCC 6\n",
      "CA CCC 7\n",
      "AA CCC 8\n",
      "AA CCC 9\n",
      "AG CCC 10\n",
      "GC CCC 10\n",
      "CA CCC 11\n",
      "AC CCC 12\n",
      "CA CCC 13\n",
      "13\n"
     ]
    }
   ],
   "source": [
    "count = 0\n",
    "a = \"TACGCATTACAAAGCACA\"\n",
    "for i in range(len(a)):\n",
    "    sub = a[i:i + 2]\n",
    "    if len(sub) == 2:\n",
    "        if sum(ch1 == ch2 for ch1, ch2 in zip(sub, \"AA\")) > 0:\n",
    "            count += 1\n",
    "        print(sub, \"CCC\", count)\n",
    "\n",
    "print(count)"
   ]
  },
  {
   "cell_type": "code",
   "execution_count": 40,
   "metadata": {
    "collapsed": false
   },
   "outputs": [
    {
     "ename": "SyntaxError",
     "evalue": "invalid syntax (<ipython-input-40-15fdcb4aaab7>, line 1)",
     "output_type": "error",
     "traceback": [
      "\u001b[1;36m  File \u001b[1;32m\"<ipython-input-40-15fdcb4aaab7>\"\u001b[1;36m, line \u001b[1;32m1\u001b[0m\n\u001b[1;33m    Count1(CGTGACAGTGTATGGGCATCTTT, TGT).\u001b[0m\n\u001b[1;37m                                         ^\u001b[0m\n\u001b[1;31mSyntaxError\u001b[0m\u001b[1;31m:\u001b[0m invalid syntax\n"
     ]
    }
   ],
   "source": [
    "Count1(CGTGACAGTGTATGGGCATCTTT, TGT)."
   ]
  },
  {
   "cell_type": "code",
   "execution_count": 41,
   "metadata": {
    "collapsed": false
   },
   "outputs": [
    {
     "name": "stdout",
     "output_type": "stream",
     "text": [
      "CGT TGT 1\n",
      "GTG TGT 1\n",
      "TGA TGT 2\n",
      "GAC TGT 2\n",
      "ACA TGT 2\n",
      "CAG TGT 2\n",
      "AGT TGT 3\n",
      "GTG TGT 3\n",
      "TGT TGT 4\n",
      "GTA TGT 4\n",
      "TAT TGT 5\n",
      "ATG TGT 5\n",
      "TGG TGT 6\n",
      "GGG TGT 7\n",
      "GGC TGT 8\n",
      "GCA TGT 8\n",
      "CAT TGT 9\n",
      "ATC TGT 9\n",
      "TCT TGT 10\n",
      "CTT TGT 11\n",
      "TTT TGT 12\n",
      "12\n"
     ]
    }
   ],
   "source": [
    "count = 0\n",
    "a = \"CGTGACAGTGTATGGGCATCTTT\"\n",
    "for i in range(len(a)):\n",
    "    sub = a[i:i + 3]\n",
    "    if len(sub) == 3:\n",
    "        if sum(ch1 != ch2 for ch1, ch2 in zip(sub, \"TGT\")) < 3:\n",
    "            count += 1\n",
    "        print(sub, \"TGT\", count)\n",
    "\n",
    "print(count)"
   ]
  },
  {
   "cell_type": "code",
   "execution_count": null,
   "metadata": {
    "collapsed": true
   },
   "outputs": [],
   "source": [
    "TGCAT"
   ]
  },
  {
   "cell_type": "code",
   "execution_count": null,
   "metadata": {
    "collapsed": true
   },
   "outputs": [],
   "source": [
    "20"
   ]
  },
  {
   "cell_type": "code",
   "execution_count": null,
   "metadata": {
    "collapsed": true
   },
   "outputs": [],
   "source": []
  },
  {
   "cell_type": "code",
   "execution_count": null,
   "metadata": {
    "collapsed": true
   },
   "outputs": [],
   "source": []
  },
  {
   "cell_type": "code",
   "execution_count": null,
   "metadata": {
    "collapsed": true
   },
   "outputs": [],
   "source": []
  },
  {
   "cell_type": "code",
   "execution_count": null,
   "metadata": {
    "collapsed": true
   },
   "outputs": [],
   "source": []
  },
  {
   "cell_type": "markdown",
   "metadata": {},
   "source": [
    "-------------------"
   ]
  },
  {
   "cell_type": "code",
   "execution_count": null,
   "metadata": {
    "collapsed": true
   },
   "outputs": [],
   "source": [
    "count = 0\n",
    "for i in range(len(a)):\n",
    "    sub = a[i:i + 4]\n",
    "    if len(sub) == 4:\n",
    "        if sum(ch1 != ch2 for ch1, ch2 in zip(sub, \"TAGC\")) < 4:\n",
    "            count += 1\n",
    "        print(sub, \"TAGC\", count)"
   ]
  },
  {
   "cell_type": "code",
   "execution_count": null,
   "metadata": {
    "collapsed": true
   },
   "outputs": [],
   "source": []
  },
  {
   "cell_type": "code",
   "execution_count": null,
   "metadata": {
    "collapsed": true
   },
   "outputs": [],
   "source": []
  },
  {
   "cell_type": "code",
   "execution_count": null,
   "metadata": {
    "collapsed": true
   },
   "outputs": [],
   "source": []
  },
  {
   "cell_type": "code",
   "execution_count": null,
   "metadata": {
    "collapsed": true
   },
   "outputs": [],
   "source": []
  },
  {
   "cell_type": "markdown",
   "metadata": {},
   "source": [
    "### Reference\n",
    "-----------------\n",
    "https://github.com/TrigonaMinima/psets/blob/master/Finding%20Hidden%20Messages%20in%20DNA%20(Bioinformatics%20I)/quiz1.py"
   ]
  },
  {
   "cell_type": "code",
   "execution_count": null,
   "metadata": {
    "collapsed": true
   },
   "outputs": [],
   "source": []
  }
 ],
 "metadata": {
  "anaconda-cloud": {},
  "kernelspec": {
   "display_name": "Python [Root]",
   "language": "python",
   "name": "Python [Root]"
  },
  "language_info": {
   "codemirror_mode": {
    "name": "ipython",
    "version": 3
   },
   "file_extension": ".py",
   "mimetype": "text/x-python",
   "name": "python",
   "nbconvert_exporter": "python",
   "pygments_lexer": "ipython3",
   "version": "3.5.2"
  }
 },
 "nbformat": 4,
 "nbformat_minor": 0
}
